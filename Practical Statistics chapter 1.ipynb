{
 "cells": [
  {
   "cell_type": "code",
   "execution_count": 0,
   "metadata": {
    "cell_id": "b0ee1364353d4f258a97613d617604de",
    "deepnote_cell_type": "code",
    "deepnote_to_be_reexecuted": false,
    "execution_start": 1673801366226,
    "source_hash": "b623e53d",
    "tags": []
   },
   "outputs": [],
   "source": []
  },
  {
   "cell_type": "markdown",
   "metadata": {
    "cell_id": "ed6a8819a1dd4cd39f1571140f92cd68",
    "deepnote_app_coordinates": {
     "h": 5,
     "w": 12,
     "x": 0,
     "y": 1
    },
    "deepnote_cell_type": "text-cell-h2",
    "formattedRanges": [],
    "is_collapsed": false,
    "tags": []
   },
   "source": [
    "## 1. Exploratory data analysis - chapter 1"
   ]
  },
  {
   "cell_type": "markdown",
   "metadata": {
    "cell_id": "6304aaf8-f058-4d12-b6d9-82e6184b5d65",
    "deepnote_app_coordinates": {
     "h": 5,
     "w": 12,
     "x": 0,
     "y": 6
    },
    "deepnote_cell_type": "text-cell-p",
    "formattedRanges": [
     {
      "fromCodePoint": 51,
      "marks": {
       "bold": true,
       "italic": true
      },
      "toCodePoint": 60,
      "type": "marks"
     },
     {
      "fromCodePoint": 220,
      "marks": {
       "bold": true,
       "italic": true
      },
      "toCodePoint": 232,
      "type": "marks"
     }
    ],
    "is_collapsed": false,
    "tags": []
   },
   "source": [
    "Classical statistics focused almost exclusively on inference , a sometimes complex set of procedures for drawing conclusions about large populations based on small samples. He proposed a new scientific discipline called data analsys that included statistics inference as just one component."
   ]
  },
  {
   "cell_type": "markdown",
   "metadata": {
    "cell_id": "20702573-69c1-4830-81ad-b4dc1df89b1d",
    "deepnote_cell_type": "text-cell-h2",
    "formattedRanges": [],
    "is_collapsed": false,
    "tags": []
   },
   "source": [
    "## 2. Elements of structured data - chapter 1 "
   ]
  },
  {
   "cell_type": "markdown",
   "metadata": {
    "cell_id": "af51310a-75ba-44e9-a3b6-a7a65759f040",
    "deepnote_cell_type": "text-cell-p",
    "formattedRanges": [],
    "is_collapsed": false,
    "tags": []
   },
   "source": [
    "Data comes from many sources: sensor measurments, events, text, images and videos. The internet of things(IoT) is spewing out streams of information."
   ]
  },
  {
   "cell_type": "markdown",
   "metadata": {
    "cell_id": "6121c41b-0f19-4400-aea5-26f669f2cdda",
    "deepnote_cell_type": "text-cell-p",
    "formattedRanges": [
     {
      "fromCodePoint": 48,
      "marks": {
       "bold": true,
       "italic": true
      },
      "toCodePoint": 55,
      "type": "marks"
     },
     {
      "fromCodePoint": 60,
      "marks": {
       "bold": true,
       "italic": true
      },
      "toCodePoint": 71,
      "type": "marks"
     },
     {
      "fromCodePoint": 73,
      "marks": {
       "bold": true,
       "italic": true
      },
      "toCodePoint": 80,
      "type": "marks"
     },
     {
      "fromCodePoint": 106,
      "marks": {
       "bold": true,
       "italic": true
      },
      "toCodePoint": 115,
      "type": "marks"
     },
     {
      "fromCodePoint": 158,
      "marks": {
       "bold": true,
       "italic": true
      },
      "toCodePoint": 166,
      "type": "marks"
     },
     {
      "fromCodePoint": 218,
      "marks": {
       "bold": true,
       "italic": true
      },
      "toCodePoint": 229,
      "type": "marks"
     },
     {
      "fromCodePoint": 354,
      "marks": {
       "bold": true,
       "italic": true
      },
      "toCodePoint": 360,
      "type": "marks"
     },
     {
      "fromCodePoint": 529,
      "marks": {
       "bold": true,
       "italic": true
      },
      "toCodePoint": 536,
      "type": "marks"
     },
     {
      "fromCodePoint": 569,
      "marks": {
       "bold": true,
       "italic": true
      },
      "toCodePoint": 576,
      "type": "marks"
     }
    ],
    "is_collapsed": false,
    "tags": []
   },
   "source": [
    "There are two basics types of structured data : numeric and categorical. Numeric data comes in two forms: continuos, such as wind speed or time duration, and discrete, such as the count of the occurrence of and event. Categorical data takes only a fixed set of values, such as a type of TV screen(Plasma, LCD,LED,etc) or state name(Alabana,Alaska,etc.). Binary data is an importante special case of categorical data that takes on only  of two values, such as 0/1, yes/no or true/false. Another useful type of categorical data is ordinal data in wich the categories are ordered; and example of this is a numerical rating(1,2,3,4 or 5)."
   ]
  },
  {
   "cell_type": "markdown",
   "metadata": {
    "cell_id": "f6b9d771-83fd-4a09-8633-93b7fa896970",
    "deepnote_cell_type": "text-cell-h3",
    "formattedRanges": [],
    "is_collapsed": false,
    "tags": []
   },
   "source": [
    "### key terms for data types."
   ]
  },
  {
   "cell_type": "markdown",
   "metadata": {
    "cell_id": "d006c30a-4fa7-41f5-8532-fd42ebe34709",
    "deepnote_cell_type": "text-cell-bullet",
    "formattedRanges": [
     {
      "fromCodePoint": 0,
      "marks": {
       "bold": true,
       "italic": true
      },
      "toCodePoint": 7,
      "type": "marks"
     }
    ],
    "is_collapsed": false,
    "tags": []
   },
   "source": [
    "- Numeric: data that expressed on a numeric scale. "
   ]
  },
  {
   "cell_type": "markdown",
   "metadata": {
    "cell_id": "fd9b0fd4-d433-4c46-827b-fde058b6b223",
    "deepnote_cell_type": "text-cell-p",
    "formattedRanges": [
     {
      "fromCodePoint": 1,
      "marks": {
       "bold": true
      },
      "toCodePoint": 11,
      "type": "marks"
     }
    ],
    "is_collapsed": false,
    "tags": []
   },
   "source": [
    "-Continuous : Data that can take on any value in a interval(Synonyms: interval, float, numeric)"
   ]
  },
  {
   "cell_type": "markdown",
   "metadata": {
    "cell_id": "725d38f7-a1d2-4567-ac38-92fcda56a63b",
    "deepnote_cell_type": "text-cell-p",
    "formattedRanges": [
     {
      "fromCodePoint": 1,
      "marks": {
       "bold": true
      },
      "toCodePoint": 9,
      "type": "marks"
     }
    ],
    "is_collapsed": false,
    "tags": []
   },
   "source": [
    "-Discrete: Data that take on only integer values, such a counts(Synonyms: integer, count)"
   ]
  },
  {
   "cell_type": "markdown",
   "metadata": {
    "cell_id": "7770b411-c5fa-4151-a33b-1fb83c308f17",
    "deepnote_cell_type": "text-cell-bullet",
    "formattedRanges": [
     {
      "fromCodePoint": 0,
      "marks": {
       "bold": true,
       "italic": true
      },
      "toCodePoint": 11,
      "type": "marks"
     }
    ],
    "is_collapsed": false,
    "tags": []
   },
   "source": [
    "- Categorical: Data that can take on only a specific set of values representing a set of possible categories.(Synonyms; eums, enumerated, factors, nominal)."
   ]
  },
  {
   "cell_type": "markdown",
   "metadata": {
    "cell_id": "9cf4da73-099e-4d8e-a348-001dbce10612",
    "deepnote_cell_type": "text-cell-p",
    "formattedRanges": [
     {
      "fromCodePoint": 1,
      "marks": {
       "bold": true
      },
      "toCodePoint": 7,
      "type": "marks"
     }
    ],
    "is_collapsed": false,
    "tags": []
   },
   "source": [
    "-Binary: a special case of categorical data with just two categories of values. e.g., 0/1, true/fase(Synonyms; dichotomous, logical, indicator, bollean)"
   ]
  },
  {
   "cell_type": "markdown",
   "metadata": {
    "cell_id": "19a211a1-d190-4d07-a40d-dfa2938dd28b",
    "deepnote_cell_type": "text-cell-p",
    "formattedRanges": [
     {
      "fromCodePoint": 1,
      "marks": {
       "bold": true
      },
      "toCodePoint": 8,
      "type": "marks"
     }
    ],
    "is_collapsed": false,
    "tags": []
   },
   "source": [
    "-Ordinal: Categorical data that has an explicit ordering(Synonym; order factor)."
   ]
  },
  {
   "cell_type": "markdown",
   "metadata": {
    "cell_id": "9ffd8ff5-fe26-4d47-abf6-af3123d48200",
    "deepnote_cell_type": "text-cell-h2",
    "formattedRanges": [],
    "is_collapsed": false,
    "tags": []
   },
   "source": [
    "## 3. Rectangular data - chapter 1"
   ]
  },
  {
   "cell_type": "markdown",
   "metadata": {
    "cell_id": "afc89b25-3e29-4d17-b6cb-ce8a733c8ce0",
    "deepnote_cell_type": "text-cell-p",
    "formattedRanges": [
     {
      "fromCodePoint": 95,
      "marks": {
       "bold": true,
       "italic": true
      },
      "toCodePoint": 106,
      "type": "marks"
     }
    ],
    "is_collapsed": false,
    "tags": []
   },
   "source": [
    "The typical frame of reference typical frame of. reference for a analysis in data science is a rectangular data object. like a spreadsheet or. database table."
   ]
  },
  {
   "cell_type": "markdown",
   "metadata": {
    "cell_id": "e3e84410-d250-4377-ae17-062af5588ef9",
    "deepnote_cell_type": "text-cell-p",
    "formattedRanges": [
     {
      "fromCodePoint": 0,
      "marks": {
       "bold": true,
       "italic": true
      },
      "toCodePoint": 11,
      "type": "marks"
     }
    ],
    "is_collapsed": false,
    "tags": []
   },
   "source": [
    "Rectangular data is the general term for a two-dimensional matrix with rows indicating record(cases) and columns indicating features(Variables); dataframe is the specific format in R and python. The data doesn't always start in this form: unstructured data(e.g. Text) must be processed and manipulated so tahta it can be represented as a set of features in a the rectangular data. Data in relational databases must be extracted and put into a single tablke for most data analysis and modeling tasks."
   ]
  },
  {
   "cell_type": "markdown",
   "metadata": {
    "cell_id": "18cf6d99-d66d-4bb5-94aa-10738be570f0",
    "deepnote_cell_type": "text-cell-h3",
    "formattedRanges": [],
    "is_collapsed": false,
    "tags": []
   },
   "source": [
    "### key terms for rectangular data."
   ]
  },
  {
   "cell_type": "markdown",
   "metadata": {
    "cell_id": "245971c3-1a3c-418e-9917-4579bccc128a",
    "deepnote_cell_type": "text-cell-bullet",
    "formattedRanges": [
     {
      "fromCodePoint": 0,
      "marks": {
       "bold": true,
       "italic": true
      },
      "toCodePoint": 9,
      "type": "marks"
     }
    ],
    "is_collapsed": false,
    "tags": []
   },
   "source": [
    "- Dataframe : Reactangular data(like a spreadsheet) is the basic data structure for statiscal and machine learning models."
   ]
  },
  {
   "cell_type": "markdown",
   "metadata": {
    "cell_id": "f1f8e984-f6cd-42d0-b5a0-29547b8917fe",
    "deepnote_cell_type": "text-cell-bullet",
    "formattedRanges": [
     {
      "fromCodePoint": 0,
      "marks": {
       "bold": true,
       "italic": true
      },
      "toCodePoint": 7,
      "type": "marks"
     }
    ],
    "is_collapsed": false,
    "tags": []
   },
   "source": [
    "- Feature : a column within a table is coomonly referred to as a feature. (Input, predictor, variable)."
   ]
  },
  {
   "cell_type": "markdown",
   "metadata": {
    "cell_id": "4ad1ee04-5642-4e77-bf77-6756a9f0b9e4",
    "deepnote_cell_type": "text-cell-bullet",
    "formattedRanges": [
     {
      "fromCodePoint": 0,
      "marks": {
       "bold": true,
       "italic": true
      },
      "toCodePoint": 7,
      "type": "marks"
     }
    ],
    "is_collapsed": false,
    "tags": []
   },
   "source": [
    "- Outcome: Many data science projects involve predicting outcome-often a yes/no outcome. The features are fome times used to predict the outcome in as experiment or a study."
   ]
  },
  {
   "cell_type": "markdown",
   "metadata": {
    "cell_id": "8cdd6fd3-7b7f-404e-80fc-3c6ead990f84",
    "deepnote_cell_type": "text-cell-h2",
    "formattedRanges": [],
    "is_collapsed": false,
    "tags": []
   },
   "source": [
    "## 4. Estimates of location."
   ]
  },
  {
   "cell_type": "markdown",
   "metadata": {
    "cell_id": "05678889-9383-4ffe-94a5-c283ac98bdda",
    "deepnote_cell_type": "text-cell-p",
    "formattedRanges": [],
    "is_collapsed": false,
    "tags": []
   },
   "source": [
    "Variables with measured or count data might have thousands of distincs values. A basic Step in exploring your data is getting a \"typical value\" for each feature(Variable) an estimate of where most of the data is located.(its central tendency)"
   ]
  },
  {
   "cell_type": "markdown",
   "metadata": {
    "cell_id": "03acb514-c707-4d5d-8112-56899832700e",
    "deepnote_cell_type": "text-cell-h3",
    "formattedRanges": [],
    "is_collapsed": false,
    "tags": []
   },
   "source": [
    "### mean or average -> mean(dataframe) "
   ]
  },
  {
   "cell_type": "markdown",
   "metadata": {
    "cell_id": "7234ff64-06ad-4d61-a4dc-e1cf2671a225",
    "deepnote_cell_type": "text-cell-p",
    "formattedRanges": [
     {
      "fromCodePoint": 55,
      "marks": {
       "bold": true
      },
      "toCodePoint": 62,
      "type": "marks"
     }
    ],
    "is_collapsed": false,
    "tags": []
   },
   "source": [
    "The sum of all values divided by the number of values (Average)"
   ]
  },
  {
   "cell_type": "markdown",
   "metadata": {
    "cell_id": "e5feffce-b2ea-491e-b2ba-b432d3fe0063",
    "deepnote_cell_type": "text-cell-h3",
    "formattedRanges": [],
    "is_collapsed": false,
    "tags": []
   },
   "source": [
    "### Weighted mean"
   ]
  },
  {
   "cell_type": "markdown",
   "metadata": {
    "cell_id": "88ce5222-42d2-4122-bd61-4f0228d3bf2b",
    "deepnote_cell_type": "text-cell-p",
    "formattedRanges": [
     {
      "fromCodePoint": 73,
      "marks": {
       "bold": true
      },
      "toCodePoint": 89,
      "type": "marks"
     }
    ],
    "is_collapsed": false,
    "tags": []
   },
   "source": [
    "The sum of all values times a weigth divided by the sum of the weights. (Weighted average)"
   ]
  },
  {
   "cell_type": "markdown",
   "metadata": {
    "cell_id": "715dcfec-d074-47b1-85c8-834119e7e2e2",
    "deepnote_cell_type": "text-cell-h3",
    "formattedRanges": [],
    "is_collapsed": false,
    "tags": []
   },
   "source": [
    "### Median"
   ]
  },
  {
   "cell_type": "markdown",
   "metadata": {
    "cell_id": "35a622cf-754c-4db9-b684-f815edd96cd0",
    "deepnote_cell_type": "text-cell-p",
    "formattedRanges": [
     {
      "fromCodePoint": 64,
      "marks": {
       "bold": true
      },
      "toCodePoint": 79,
      "type": "marks"
     }
    ],
    "is_collapsed": false,
    "tags": []
   },
   "source": [
    "The value such that one-half of the data lies above and below. (50th percentile)"
   ]
  },
  {
   "cell_type": "markdown",
   "metadata": {
    "cell_id": "c6aa4326-66d2-4d1f-9fbc-298e515ab5b1",
    "deepnote_cell_type": "text-cell-h3",
    "formattedRanges": [],
    "is_collapsed": false,
    "tags": []
   },
   "source": [
    "### Percentile."
   ]
  },
  {
   "cell_type": "markdown",
   "metadata": {
    "cell_id": "e3d52ea1-694a-4b4d-9ca0-0eca585e8139",
    "deepnote_cell_type": "text-cell-p",
    "formattedRanges": [
     {
      "fromCodePoint": 20,
      "marks": {
       "bold": true,
       "italic": true
      },
      "toCodePoint": 21,
      "type": "marks"
     },
     {
      "fromCodePoint": 56,
      "marks": {
       "bold": true,
       "italic": true
      },
      "toCodePoint": 64,
      "type": "marks"
     }
    ],
    "is_collapsed": false,
    "tags": []
   },
   "source": [
    "The value such that P  percent of the data lies below. (quantile)"
   ]
  },
  {
   "cell_type": "markdown",
   "metadata": {
    "cell_id": "b352e4d4-1fe8-420e-a2ce-bc0fd6835fc7",
    "deepnote_cell_type": "text-cell-h3",
    "formattedRanges": [],
    "is_collapsed": false,
    "tags": []
   },
   "source": [
    "### Weighted median "
   ]
  },
  {
   "cell_type": "markdown",
   "metadata": {
    "cell_id": "0abb743b-56ea-4bc6-b0e5-1480db32671b",
    "deepnote_cell_type": "text-cell-p",
    "formattedRanges": [],
    "is_collapsed": false,
    "tags": []
   },
   "source": [
    "The value such that one-half of the sum of the weights lives above and below the sorted data."
   ]
  },
  {
   "cell_type": "markdown",
   "metadata": {
    "cell_id": "7589b826-16fd-4441-b8a4-900c1e5ffea7",
    "deepnote_cell_type": "text-cell-h3",
    "formattedRanges": [],
    "is_collapsed": false,
    "tags": []
   },
   "source": [
    "### Trimmed mean"
   ]
  },
  {
   "cell_type": "markdown",
   "metadata": {
    "cell_id": "e8994080-2065-42a4-b5cc-fd778acea358",
    "deepnote_cell_type": "text-cell-p",
    "formattedRanges": [
     {
      "fromCodePoint": 76,
      "marks": {
       "bold": true,
       "italic": true
      },
      "toCodePoint": 90,
      "type": "marks"
     }
    ],
    "is_collapsed": false,
    "tags": []
   },
   "source": [
    "The average of all values after dropping a fixed number of extreme values. (Truncated mean)"
   ]
  },
  {
   "cell_type": "markdown",
   "metadata": {
    "cell_id": "b196d285-0bea-4b1e-af2a-d993a58baeae",
    "deepnote_cell_type": "text-cell-h3",
    "formattedRanges": [],
    "is_collapsed": false,
    "tags": []
   },
   "source": [
    "### Robust "
   ]
  },
  {
   "cell_type": "markdown",
   "metadata": {
    "cell_id": "7175af90-b792-41f1-976a-e28aeff47110",
    "deepnote_cell_type": "text-cell-p",
    "formattedRanges": [
     {
      "fromCodePoint": 34,
      "marks": {
       "bold": true,
       "underline": true
      },
      "toCodePoint": 43,
      "type": "marks"
     }
    ],
    "is_collapsed": false,
    "tags": []
   },
   "source": [
    "Not sensitive to extreme values. (Resistant)"
   ]
  },
  {
   "cell_type": "markdown",
   "metadata": {
    "cell_id": "51c99187-69bd-4c8f-b890-f7b53e0ae4d0",
    "deepnote_cell_type": "text-cell-h3",
    "formattedRanges": [],
    "is_collapsed": false,
    "tags": []
   },
   "source": [
    "### Outlier"
   ]
  },
  {
   "cell_type": "markdown",
   "metadata": {
    "cell_id": "cc62dc08-40ae-40f7-aea8-dc14f7a587b7",
    "deepnote_cell_type": "text-cell-p",
    "formattedRanges": [
     {
      "fromCodePoint": 61,
      "marks": {
       "bold": true,
       "italic": true
      },
      "toCodePoint": 75,
      "type": "marks"
     }
    ],
    "is_collapsed": false,
    "tags": []
   },
   "source": [
    "A data value that is very different from mosrt of the data. (Extreme value."
   ]
  },
  {
   "cell_type": "markdown",
   "metadata": {
    "cell_id": "034fbe0a29a14555a8cdd2ccb60551c4",
    "deepnote_cell_type": "text-cell-h2",
    "formattedRanges": [],
    "is_collapsed": false,
    "tags": []
   },
   "source": [
    "## 5. Estimates of varaibility - chapter 1"
   ]
  },
  {
   "cell_type": "markdown",
   "metadata": {
    "cell_id": "d3b585d9-2a51-44be-b978-2f7ea6e7b9f9",
    "deepnote_cell_type": "text-cell-p",
    "formattedRanges": [],
    "is_collapsed": false,
    "tags": []
   },
   "source": [
    "Location is just one dimension in summarizing a feature. a secod dimensionm varability, also referred to as dispersion, measures whether the data values are tightly clustered or spread out. at the heart of statistics lies variability: measuring it, reducing it, distinguishing random from real variability, identifying the various sources of real variability, and making decisions in the presence of it."
   ]
  },
  {
   "cell_type": "markdown",
   "metadata": {
    "cell_id": "ad2d68e8-828f-410e-b554-ded7b2e19788",
    "deepnote_cell_type": "text-cell-h3",
    "formattedRanges": [
     {
      "fromCodePoint": 0,
      "marks": {
       "bold": true
      },
      "toCodePoint": 10,
      "type": "marks"
     }
    ],
    "is_collapsed": false,
    "tags": []
   },
   "source": [
    "### Deviations"
   ]
  },
  {
   "cell_type": "markdown",
   "metadata": {
    "cell_id": "4251fc95-ce6b-40c9-9729-d50b78f93f07",
    "deepnote_cell_type": "text-cell-p",
    "formattedRanges": [],
    "is_collapsed": false,
    "tags": []
   },
   "source": [
    "The difference between the observed values the estimate of location(Errors, residuals)"
   ]
  },
  {
   "cell_type": "markdown",
   "metadata": {
    "cell_id": "63998551-31e0-401a-87b0-5c6d8d7e7354",
    "deepnote_cell_type": "text-cell-h3",
    "formattedRanges": [],
    "is_collapsed": false,
    "tags": []
   },
   "source": [
    "### Variance"
   ]
  },
  {
   "cell_type": "markdown",
   "metadata": {
    "cell_id": "5809bdb9-a12e-409f-b398-912b82aa57c7",
    "deepnote_cell_type": "text-cell-p",
    "formattedRanges": [
     {
      "fromCodePoint": 55,
      "marks": {
       "bold": true,
       "italic": true
      },
      "toCodePoint": 61,
      "type": "marks"
     }
    ],
    "is_collapsed": false,
    "tags": []
   },
   "source": [
    "The sum of squared deviations from the mean devided by n - 1 where n is the number of data values."
   ]
  },
  {
   "cell_type": "markdown",
   "metadata": {
    "cell_id": "a56abf41-30f3-4e19-8e56-208c418ede1c",
    "deepnote_cell_type": "text-cell-h3",
    "formattedRanges": [],
    "is_collapsed": false,
    "tags": []
   },
   "source": [
    "### Standar deviation"
   ]
  },
  {
   "cell_type": "markdown",
   "metadata": {
    "cell_id": "9d0409f5-9ace-474d-9473-8e908d3da717",
    "deepnote_cell_type": "text-cell-p",
    "formattedRanges": [],
    "is_collapsed": false,
    "tags": []
   },
   "source": [
    "The squared root of the variance"
   ]
  },
  {
   "cell_type": "markdown",
   "metadata": {
    "cell_id": "10a2d7a1-2808-4b70-91b4-5de653fc7126",
    "deepnote_cell_type": "text-cell-h3",
    "formattedRanges": [],
    "is_collapsed": false,
    "tags": []
   },
   "source": [
    "### Range "
   ]
  },
  {
   "cell_type": "markdown",
   "metadata": {
    "cell_id": "d578aa0c-df43-4a16-990e-1bbadaa0875f",
    "deepnote_cell_type": "text-cell-p",
    "formattedRanges": [],
    "is_collapsed": false,
    "tags": []
   },
   "source": [
    "The difference of the absolut values of the deviations from the median."
   ]
  },
  {
   "cell_type": "markdown",
   "metadata": {
    "cell_id": "59f82182-289a-4d00-bf00-27a1b2f5fdeb",
    "deepnote_cell_type": "text-cell-h3",
    "formattedRanges": [],
    "is_collapsed": false,
    "tags": []
   },
   "source": [
    "### Order statistics "
   ]
  },
  {
   "cell_type": "markdown",
   "metadata": {
    "cell_id": "ac0b8fd3-2f27-4839-98a5-6545e539901f",
    "deepnote_cell_type": "text-cell-p",
    "formattedRanges": [],
    "is_collapsed": false,
    "tags": []
   },
   "source": [
    "Metrics based on the data values sorted from smallest to biggest. (Ranks)"
   ]
  },
  {
   "cell_type": "markdown",
   "metadata": {
    "cell_id": "90c82311-83df-4bb8-907c-98b5807697de",
    "deepnote_cell_type": "text-cell-h3",
    "formattedRanges": [],
    "is_collapsed": false,
    "tags": []
   },
   "source": [
    "### Percentile"
   ]
  },
  {
   "cell_type": "markdown",
   "metadata": {
    "cell_id": "6125cae0-51e2-4ef4-b22b-5211e8503daf",
    "deepnote_cell_type": "text-cell-p",
    "formattedRanges": [],
    "is_collapsed": false,
    "tags": []
   },
   "source": [
    "The diference between the 75th percetile and the 25th percentile (Quantile)"
   ]
  },
  {
   "cell_type": "markdown",
   "metadata": {
    "cell_id": "60b801b1-d930-4ac9-99b9-4ce673456a3f",
    "deepnote_cell_type": "text-cell-h3",
    "formattedRanges": [],
    "is_collapsed": false,
    "tags": []
   },
   "source": [
    "### Interquartile range"
   ]
  },
  {
   "cell_type": "markdown",
   "metadata": {
    "cell_id": "cb2b71c6-1888-457f-bbba-41f8d6f27f69",
    "deepnote_cell_type": "text-cell-p",
    "formattedRanges": [],
    "is_collapsed": false,
    "tags": []
   },
   "source": [
    "The difference between the 75th percentile and the 25th percentile. (IQR)"
   ]
  },
  {
   "cell_type": "code",
   "execution_count": 1,
   "metadata": {
    "cell_id": "767c4e42a70648f5939b196dbf71a9ef",
    "deepnote_cell_type": "code",
    "deepnote_to_be_reexecuted": false,
    "execution_millis": 2374,
    "execution_start": 1673801366270,
    "source_hash": "bc9e2469",
    "tags": []
   },
   "outputs": [
    {
     "name": "stdout",
     "output_type": "stream",
     "text": [
      "mean: 7694135.625\n",
      "trim mean: 7694135.625\n",
      "median: 4176916.5\n"
     ]
    },
    {
     "data": {
      "text/plain": [
       "<Figure size 1000x1000 with 0 Axes>"
      ]
     },
     "metadata": {},
     "output_type": "display_data"
    },
    {
     "data": {
      "image/png": "[encoded data removed]",
      "text/plain": [
       "<Figure size 500x500 with 1 Axes>"
      ]
     },
     "metadata": {
      "image/png": {
       "height": 489,
       "width": 489
      }
     },
     "output_type": "display_data"
    }
   ],
   "source": [
    "import pandas as pd\n",
    "import numpy as np\n",
    "import scipy.stats as sc\n",
    "import seaborn as sns\n",
    "import matplotlib.pyplot as plt\n",
    "\n",
    "data = {'State' : ['labama','Alaska','Arizona','Arkansas','California','Colorado','Connectict','Delaware',],\n",
    "      'Population' : [4779736 ,710231 ,6392017,2915918,37253956,5029196,3574097,897934],\n",
    "      'Murder rate' : [5.7,5.6,4.7,5.64,4.4,2.8,2.4,5.8],\n",
    "      'Abbrevation' : ['AL','AK','AZ','AR','CA','CO','CT','DE']}\n",
    "\n",
    "df = pd.DataFrame(data)\n",
    "\n",
    "\n",
    "#to compute mean and median\n",
    "mean = df['Population'].mean()\n",
    "print(f'mean: {mean}')\n",
    "#trim mean\n",
    "trim_mean = sc.trim_mean(df['Population'],0.1)\n",
    "print(f'trim mean: {trim_mean}')\n",
    "#meadia\n",
    "median = df['Population'].median()\n",
    "print(f'median: {median}')\n",
    "\n",
    "#visualizing \n",
    "plt.figure(figsize=(10,10))\n",
    "sns.catplot(data=df,x='Abbrevation',y='Population',kind='bar')\n",
    "plt.axhline(median,color='r')\n",
    "plt.axhline(mean,color='blue')\n",
    "plt.show()\n",
    "\n",
    "\n",
    "\n"
   ]
  },
  {
   "cell_type": "markdown",
   "metadata": {
    "cell_id": "3c6eb105-4f91-4d1d-87eb-0668f67fed6a",
    "deepnote_cell_type": "text-cell-p",
    "formattedRanges": [],
    "is_collapsed": false,
    "tags": []
   },
   "source": []
  },
  {
   "cell_type": "markdown",
   "metadata": {
    "cell_id": "e7ffb2a5-28b9-4ef8-9ced-1f7d1c023fce",
    "deepnote_cell_type": "text-cell-p",
    "formattedRanges": [
     {
      "fromCodePoint": 0,
      "marks": {
       "bold": true
      },
      "toCodePoint": 0,
      "type": "marks"
     }
    ],
    "is_collapsed": false,
    "tags": []
   },
   "source": []
  },
  {
   "cell_type": "code",
   "execution_count": 26,
   "metadata": {
    "cell_id": "c82dc2c278ce4e0e8c24293c948fad2f",
    "deepnote_cell_type": "code",
    "deepnote_to_be_reexecuted": false,
    "execution_millis": 457,
    "execution_start": 1673802184277,
    "source_hash": "86787731",
    "tags": []
   },
   "outputs": [
    {
     "name": "stdout",
     "output_type": "stream",
     "text": [
      "standar deviaton: 12105745.29585633\n",
      "IQR: 2958479.25\n"
     ]
    },
    {
     "data": {
      "text/plain": [
       "<Figure size 1000x1000 with 0 Axes>"
      ]
     },
     "metadata": {},
     "output_type": "display_data"
    },
    {
     "data": {
      "image/png": "[encoded data removed]",
      "text/plain": [
       "<Figure size 500x500 with 1 Axes>"
      ]
     },
     "metadata": {
      "image/png": {
       "height": 489,
       "width": 489
      }
     },
     "output_type": "display_data"
    }
   ],
   "source": [
    "std_df = df['Population'].std()\n",
    "print(f'standar deviaton: {std_df}')\n",
    "\n",
    "iqr = df['Population'].quantile(0.75) - df['Population'].quantile(0.25)\n",
    "print(f'IQR: {iqr}')\n",
    "\n",
    "plt.figure(figsize=(10,10))\n",
    "sns.catplot(data=df,x='Abbrevation',y='Population',kind='bar')\n",
    "\n",
    "plt.show()\n",
    "\n"
   ]
  },
  {
   "cell_type": "markdown",
   "metadata": {
    "cell_id": "f6091d8f-d69a-4909-b4c8-45d2e5a026c8",
    "deepnote_cell_type": "text-cell-h2",
    "formattedRanges": [],
    "is_collapsed": false,
    "number": 6,
    "style": "decimal",
    "tags": []
   },
   "source": [
    "## 6. Exploring the data distribution"
   ]
  },
  {
   "cell_type": "markdown",
   "metadata": {
    "cell_id": "36b43e2b-b5b1-4f95-9a01-4289ad3b0561",
    "deepnote_cell_type": "text-cell-p",
    "formattedRanges": [],
    "is_collapsed": false,
    "number": 6,
    "style": "decimal",
    "tags": []
   },
   "source": [
    "Each of the estimates we've coverd sums up the data in a single number to describe the location or variability of the data. It  is also useful to explore how the data is distributed overall."
   ]
  },
  {
   "cell_type": "markdown",
   "metadata": {
    "cell_id": "c106be1690ae4dbc9d6f72fea7f07285",
    "deepnote_cell_type": "text-cell-h3",
    "formattedRanges": [],
    "is_collapsed": false,
    "tags": []
   },
   "source": [
    "### Boxplot"
   ]
  },
  {
   "cell_type": "markdown",
   "metadata": {
    "cell_id": "25036794-efaa-494f-8b2d-f2dea428c4bd",
    "deepnote_cell_type": "text-cell-p",
    "formattedRanges": [],
    "is_collapsed": false,
    "tags": []
   },
   "source": [
    "A plot introduced by Tukey as a quick way to visualize the distribution of data.(Box and whiskers plot)"
   ]
  },
  {
   "cell_type": "markdown",
   "metadata": {
    "cell_id": "17a619eb-b17d-49ca-90a8-ffd496a7a5b9",
    "deepnote_cell_type": "text-cell-h3",
    "formattedRanges": [],
    "is_collapsed": false,
    "tags": []
   },
   "source": [
    "### Frecuency table "
   ]
  },
  {
   "cell_type": "markdown",
   "metadata": {
    "cell_id": "0c29fa21-4eaf-49f4-a6a5-7d72b7135322",
    "deepnote_cell_type": "text-cell-p",
    "formattedRanges": [],
    "is_collapsed": false,
    "tags": []
   },
   "source": [
    "A tally of the count of numeric data values that fall into a set of intervals(bins)."
   ]
  },
  {
   "cell_type": "markdown",
   "metadata": {
    "cell_id": "378ef7d7-b683-480a-a098-501777f72b4b",
    "deepnote_cell_type": "text-cell-h3",
    "formattedRanges": [],
    "is_collapsed": false,
    "tags": []
   },
   "source": [
    "### Histogram"
   ]
  },
  {
   "cell_type": "markdown",
   "metadata": {
    "cell_id": "94990aa1-5b0d-45d8-adc6-e0a7ba9b086d",
    "deepnote_cell_type": "text-cell-p",
    "formattedRanges": [],
    "is_collapsed": false,
    "tags": []
   },
   "source": [
    "A plot of the frecuency table the bins on the x-axis abd the count(or proportion) on the y-axis. While visuallu similar, bar charts should not be confused with histograms."
   ]
  },
  {
   "cell_type": "markdown",
   "metadata": {
    "cell_id": "9b7c68c8-dc54-4d2c-9159-8cdfed74121c",
    "deepnote_cell_type": "text-cell-h3",
    "formattedRanges": [],
    "is_collapsed": false,
    "tags": []
   },
   "source": [
    "### Density plot "
   ]
  },
  {
   "cell_type": "markdown",
   "metadata": {
    "cell_id": "8a050014-f4c4-4d97-b0f0-c02815a63086",
    "deepnote_cell_type": "text-cell-p",
    "formattedRanges": [],
    "is_collapsed": false,
    "tags": []
   },
   "source": [
    "A smoothed version of histogram, often based on a kernel density estimate."
   ]
  },
  {
   "cell_type": "code",
   "execution_count": 31,
   "metadata": {
    "cell_id": "7fbf6fe2abba4a40971caefec5a0adb7",
    "deepnote_cell_type": "code",
    "deepnote_to_be_reexecuted": false,
    "execution_millis": 394,
    "execution_start": 1673803113189,
    "source_hash": "e834ecf2",
    "tags": []
   },
   "outputs": [
    {
     "data": {
      "text/plain": [
       "<seaborn.axisgrid.FacetGrid at 0x7f26a3fe3b50>"
      ]
     },
     "execution_count": 31,
     "metadata": {},
     "output_type": "execute_result"
    },
    {
     "data": {
      "image/png": "[encoded data removed]",
      "text/plain": [
       "<Figure size 500x500 with 1 Axes>"
      ]
     },
     "metadata": {
      "image/png": {
       "height": 489,
       "width": 489
      }
     },
     "output_type": "display_data"
    }
   ],
   "source": [
    "sns.catplot(data=df,y='Population',kind='box')"
   ]
  },
  {
   "cell_type": "markdown",
   "metadata": {
    "cell_id": "b59b4353-87a7-4fb8-87e4-2cda83f252bb",
    "deepnote_cell_type": "text-cell-p",
    "formattedRanges": [],
    "is_collapsed": false,
    "tags": []
   },
   "source": [
    " "
   ]
  },
  {
   "cell_type": "markdown",
   "metadata": {
    "cell_id": "23440c41-8c52-4281-9d69-217bfa4b6d78",
    "deepnote_cell_type": "text-cell-h3",
    "formattedRanges": [],
    "is_collapsed": false,
    "tags": []
   },
   "source": [
    "### Frecuency tables and histogram."
   ]
  },
  {
   "cell_type": "markdown",
   "metadata": {
    "cell_id": "b0f44620-0d05-4a99-8dc5-b98ffafe2186",
    "deepnote_cell_type": "text-cell-p",
    "formattedRanges": [],
    "is_collapsed": false,
    "tags": []
   },
   "source": [
    "A frecuency table of a variable divides up the variable range into equally spped segments and tells us how mane values fall within each segment."
   ]
  },
  {
   "cell_type": "markdown",
   "metadata": {
    "cell_id": "d9344eaf17aa4797bad220383bed97ac",
    "deepnote_cell_type": "markdown",
    "tags": []
   },
   "source": [
    "<img src='data:image/png;base64,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'>"
   ]
  },
  {
   "cell_type": "markdown",
   "metadata": {
    "cell_id": "9e3222cc-669a-49b6-adcb-ec3cc65e3077",
    "deepnote_cell_type": "text-cell-h3",
    "formattedRanges": [],
    "is_collapsed": false,
    "tags": []
   },
   "source": [
    "### Density plots and estmimates."
   ]
  },
  {
   "cell_type": "markdown",
   "metadata": {
    "cell_id": "3a1e627d-2085-4ee2-b533-233d29f31310",
    "deepnote_cell_type": "text-cell-p",
    "formattedRanges": [],
    "is_collapsed": false,
    "tags": []
   },
   "source": [
    "Ralated to the thistogram is a density plot, which shows the distribution of data values as a continuous line. A density plot can be thoght of a smoothed histogram. although it is a typically computed directly from the data through a kernel density estimate. Displays a density estimate using the density funtion."
   ]
  },
  {
   "cell_type": "markdown",
   "metadata": {
    "cell_id": "d9b5f5b3-2b77-4197-b278-3c29e1583a1a",
    "deepnote_cell_type": "text-cell-h2",
    "formattedRanges": [],
    "is_collapsed": false,
    "tags": []
   },
   "source": [
    "## 7. Exploring binary and categorical data."
   ]
  },
  {
   "cell_type": "markdown",
   "metadata": {
    "cell_id": "f2981ab7-55b8-4e6b-94dd-9a1365276fe5",
    "deepnote_cell_type": "text-cell-p",
    "formattedRanges": [],
    "is_collapsed": false,
    "tags": []
   },
   "source": [
    "for categorical data, simple proportions or percentages tell the story of the data."
   ]
  },
  {
   "cell_type": "markdown",
   "metadata": {
    "cell_id": "57e895e1-3cd1-4bfc-9dc2-a6cdfe2076ce",
    "deepnote_cell_type": "text-cell-h3",
    "formattedRanges": [],
    "is_collapsed": false,
    "tags": []
   },
   "source": [
    "### Mode."
   ]
  },
  {
   "cell_type": "markdown",
   "metadata": {
    "cell_id": "6487fe52-e06f-4399-92ec-2d2ff18ba2ac",
    "deepnote_cell_type": "text-cell-p",
    "formattedRanges": [],
    "is_collapsed": false,
    "tags": []
   },
   "source": [
    "the most commonly ocurring cotegory or value in a data set."
   ]
  },
  {
   "cell_type": "markdown",
   "metadata": {
    "cell_id": "b62f52bd-f15f-4d71-bc3d-60fc85c20352",
    "deepnote_cell_type": "text-cell-h3",
    "formattedRanges": [],
    "is_collapsed": false,
    "tags": []
   },
   "source": [
    "### Expected value"
   ]
  },
  {
   "cell_type": "markdown",
   "metadata": {
    "cell_id": "44fc2ae2-0d9f-42a8-b57a-55859475a264",
    "deepnote_cell_type": "text-cell-p",
    "formattedRanges": [],
    "is_collapsed": false,
    "tags": []
   },
   "source": [
    "When the categories can be associated with a numeric value, this gives an average value based on a categorus propabolity of ocurrence."
   ]
  },
  {
   "cell_type": "markdown",
   "metadata": {
    "cell_id": "72ec5476-b7de-4cdd-bb2e-4d4c31210d27",
    "deepnote_cell_type": "text-cell-h3",
    "formattedRanges": [],
    "is_collapsed": false,
    "tags": []
   },
   "source": [
    "### Bar chart."
   ]
  },
  {
   "cell_type": "markdown",
   "metadata": {
    "cell_id": "060caedc-0b28-4bac-a82b-cdaac5c26f6d",
    "deepnote_cell_type": "text-cell-p",
    "formattedRanges": [],
    "is_collapsed": false,
    "tags": []
   },
   "source": [
    "The frecuency or proportion for each. category plotted as bars"
   ]
  },
  {
   "cell_type": "markdown",
   "metadata": {
    "cell_id": "505cba4c-5841-43a8-b5ef-d2a797f83c03",
    "deepnote_cell_type": "text-cell-h3",
    "formattedRanges": [],
    "is_collapsed": false,
    "tags": []
   },
   "source": [
    "### Pie chart"
   ]
  },
  {
   "cell_type": "markdown",
   "metadata": {
    "cell_id": "7d7b9ced-1539-443c-b1ba-60e9b482fe7a",
    "deepnote_cell_type": "text-cell-p",
    "formattedRanges": [],
    "is_collapsed": false,
    "tags": []
   },
   "source": [
    "the frecuency or porportion for each category plotted as wedges in a pie."
   ]
  },
  {
   "cell_type": "markdown",
   "metadata": {
    "cell_id": "3b0db3ad-e6cb-4de1-a5cc-98efc9e68775",
    "deepnote_cell_type": "text-cell-h2",
    "formattedRanges": [],
    "is_collapsed": false,
    "tags": []
   },
   "source": [
    "## 8. Probability "
   ]
  },
  {
   "cell_type": "markdown",
   "metadata": {
    "cell_id": "6eab3a4f-1716-4aef-af60-c75601ea68f2",
    "deepnote_cell_type": "text-cell-p",
    "formattedRanges": [],
    "is_collapsed": false,
    "tags": []
   },
   "source": [
    "We referred above to the probability of a value ocurring. Most people have an intuitive understanding of probability, encountering the concept frequently in weather forecasts(the chance of rain) or sports analysis(probability of winning). Sports and games are more oftend expressed as odds, wich are readlily convertible to probabilities(if the odds that a team will win are 2 to 1, its probability of winning is 2/(2+1) = 2/3 ). Surprisingly, though, the concept of probability can be the source of deep philosophical discussion when it comes to defining it. Fortunately, we do not need a formal mathematical or philosophical definition here. For out porposes, the porbability that an event will happen is the proportion of times it will occur if the situation could be repeated over and over, countless times. Most often this is an imaginary construction, but it is and adeauate operational undertanding of probability."
   ]
  },
  {
   "cell_type": "markdown",
   "metadata": {
    "cell_id": "b5954460-a3b3-4e1a-a3e3-54f7ef529195",
    "deepnote_cell_type": "text-cell-h2",
    "formattedRanges": [],
    "is_collapsed": false,
    "tags": []
   },
   "source": [
    "## 9. Correlation "
   ]
  },
  {
   "cell_type": "markdown",
   "metadata": {
    "cell_id": "0173af52-b5a7-4c20-a776-d7064e8fcae5",
    "deepnote_cell_type": "text-cell-p",
    "formattedRanges": [],
    "is_collapsed": false,
    "tags": []
   },
   "source": [
    "Exploratory data analysis in manu modeling projects involves examining correlation among predictors, and between predictos and a target variable. Variables X and Y are soid to be positively correlated if high values of X go with high values of Y, and low values of X go with low values of Y. if high values of X go with low values of Y, and vice versa, the variables are negatively correlated."
   ]
  },
  {
   "cell_type": "markdown",
   "metadata": {
    "cell_id": "aab447f7-5c5c-48fc-b098-116f7a91da3e",
    "deepnote_cell_type": "text-cell-h3",
    "formattedRanges": [],
    "is_collapsed": false,
    "tags": []
   },
   "source": [
    "### correlation coefficient."
   ]
  },
  {
   "cell_type": "markdown",
   "metadata": {
    "cell_id": "705aaa89-2c19-4974-b894-6c83f3b76916",
    "deepnote_cell_type": "text-cell-p",
    "formattedRanges": [],
    "is_collapsed": false,
    "tags": []
   },
   "source": [
    "a metric that measures the extent to wich numeric variables are associated with one another."
   ]
  },
  {
   "cell_type": "markdown",
   "metadata": {
    "cell_id": "9bad22ef-9163-46b1-ae71-dd2ed40231c8",
    "deepnote_cell_type": "text-cell-h3",
    "formattedRanges": [],
    "is_collapsed": false,
    "tags": []
   },
   "source": [
    "### correlation matrix"
   ]
  },
  {
   "cell_type": "markdown",
   "metadata": {
    "cell_id": "3592bd39-34f5-4b49-a99a-62e3ce2b05c7",
    "deepnote_cell_type": "text-cell-p",
    "formattedRanges": [],
    "is_collapsed": false,
    "tags": []
   },
   "source": [
    "A table where tha variables are shown on both rows and columns, and the cell values are the correlations between the variables."
   ]
  },
  {
   "cell_type": "markdown",
   "metadata": {
    "cell_id": "d3c9942d-67fb-4b09-a41d-89d6a08e1bba",
    "deepnote_cell_type": "text-cell-h3",
    "formattedRanges": [],
    "is_collapsed": false,
    "tags": []
   },
   "source": [
    "### Scatterplot "
   ]
  },
  {
   "cell_type": "markdown",
   "metadata": {
    "cell_id": "29f0873f-a1be-4635-bb85-28368b3d4d35",
    "deepnote_cell_type": "text-cell-p",
    "formattedRanges": [],
    "is_collapsed": false,
    "tags": []
   },
   "source": [
    "A plot in wich the x axis is the values of one variable, and the y axis the value of another"
   ]
  },
  {
   "cell_type": "markdown",
   "metadata": {
    "cell_id": "5f6c915b-2047-478f-b683-92214fd7f688",
    "deepnote_cell_type": "text-cell-h2",
    "formattedRanges": [],
    "is_collapsed": false,
    "tags": []
   },
   "source": [
    "## Exploring two or more variables"
   ]
  },
  {
   "cell_type": "markdown",
   "metadata": {
    "cell_id": "39d743b2-ce14-4f4b-a2ec-e8fdbca18fbe",
    "deepnote_cell_type": "text-cell-p",
    "formattedRanges": [],
    "is_collapsed": false,
    "tags": []
   },
   "source": [
    "Familiar estimators like mean and variance look at variables one at a time(Univariate analysis). Correlation analisys is an important method that compares two variables(Bivariate analysis). In this section we look at  additional estimates and plots, and at more than two variables(Multivariate analysis)"
   ]
  },
  {
   "cell_type": "markdown",
   "metadata": {
    "cell_id": "705af16c-014a-4179-afbb-7e596ee9a201",
    "deepnote_cell_type": "text-cell-h3",
    "formattedRanges": [],
    "is_collapsed": false,
    "tags": []
   },
   "source": [
    "### Contingency table "
   ]
  },
  {
   "cell_type": "markdown",
   "metadata": {
    "cell_id": "06cafa96-cda5-414a-9469-08fac8567300",
    "deepnote_cell_type": "text-cell-p",
    "formattedRanges": [],
    "is_collapsed": false,
    "tags": []
   },
   "source": [
    "A tally of count between two or more categorical variables."
   ]
  },
  {
   "cell_type": "markdown",
   "metadata": {
    "cell_id": "dec098d7-84d1-4f65-a3ae-b1b30180a9a2",
    "deepnote_cell_type": "text-cell-h3",
    "formattedRanges": [],
    "is_collapsed": false,
    "tags": []
   },
   "source": [
    "### Hexagonal bining"
   ]
  },
  {
   "cell_type": "markdown",
   "metadata": {
    "cell_id": "a3d939b9-2738-4a5c-892e-2df898727ee5",
    "deepnote_cell_type": "text-cell-p",
    "formattedRanges": [],
    "is_collapsed": false,
    "tags": []
   },
   "source": [
    "A plot of two numeric variables with the records binned into hexagons."
   ]
  },
  {
   "cell_type": "markdown",
   "metadata": {
    "cell_id": "070fa186-88e9-4a76-a981-c821fd374bbe",
    "deepnote_cell_type": "text-cell-h3",
    "formattedRanges": [],
    "is_collapsed": false,
    "tags": []
   },
   "source": [
    "### Contour plot "
   ]
  },
  {
   "cell_type": "markdown",
   "metadata": {
    "cell_id": "53cf3747-eef0-416a-891c-2e94ad9cebbb",
    "deepnote_cell_type": "text-cell-p",
    "formattedRanges": [],
    "is_collapsed": false,
    "tags": []
   },
   "source": [
    "A plot showing the density of two numeric variables like a topographical map."
   ]
  },
  {
   "cell_type": "markdown",
   "metadata": {
    "cell_id": "4119d7d3-f85e-4f79-9397-d3c28fbfeaf2",
    "deepnote_cell_type": "text-cell-h3",
    "formattedRanges": [],
    "is_collapsed": false,
    "tags": []
   },
   "source": [
    "### Violin plot"
   ]
  },
  {
   "cell_type": "markdown",
   "metadata": {
    "cell_id": "406d9799-c015-4020-8098-139e354c0dd9",
    "deepnote_cell_type": "text-cell-p",
    "formattedRanges": [],
    "is_collapsed": false,
    "tags": []
   },
   "source": [
    "Similar to a boxplot but showing the density estimate."
   ]
  },
  {
   "cell_type": "markdown",
   "metadata": {
    "created_in_deepnote_cell": true,
    "deepnote_cell_type": "markdown",
    "tags": []
   },
   "source": [
    "<a style='text-decoration:none;line-height:16px;display:flex;color:#5B5B62;padding:10px;justify-content:end;' href='https://deepnote.com?utm_source=created-in-deepnote-cell&projectId=e21b15a8-e684-4a46-8819-942b4e1fb523' target=\"_blank\">\n",
    "<img alt='Created in deepnote.com' style='display:inline;max-height:16px;margin:0px;margin-right:7.5px;' src='data:image/svg+xml;base64,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' > </img>\n",
    "Created in <span style='font-weight:600;margin-left:4px;'>Deepnote</span></a>"
   ]
  }
 ],
 "metadata": {
  "deepnote": {},
  "deepnote_app_layout": "dashboard",
  "deepnote_execution_queue": [],
  "deepnote_notebook_id": "c26820054b674381a7279cbb454fa00d",
  "deepnote_persisted_session": {
   "createdAt": "2023-01-15T18:00:19.707Z"
  },
  "kernelspec": {
   "display_name": "Python 3 (ipykernel)",
   "language": "python",
   "name": "python3"
  },
  "language_info": {
   "codemirror_mode": {
    "name": "ipython",
    "version": 3
   },
   "file_extension": ".py",
   "mimetype": "text/x-python",
   "name": "python",
   "nbconvert_exporter": "python",
   "pygments_lexer": "ipython3",
   "version": "3.9.12"
  }
 },
 "nbformat": 4,
 "nbformat_minor": 1
}
